{
 "cells": [
  {
   "cell_type": "code",
   "execution_count": 20,
   "metadata": {},
   "outputs": [],
   "source": [
    "# importing the libraries for execution\n",
    "import numpy as np\n",
    "import pandas as pd\n",
    "import sklearn.datasets\n",
    "from sklearn.model_selection import train_test_split\n",
    "from sklearn.linear_model import LogisticRegression\n",
    "from sklearn.metrics import accuracy_score"
   ]
  },
  {
   "cell_type": "code",
   "execution_count": 2,
   "metadata": {},
   "outputs": [],
   "source": [
    "# load the dataset from sklearn package\n",
    "cancer_dataset = sklearn.datasets.load_breast_cancer()"
   ]
  },
  {
   "cell_type": "code",
   "execution_count": 3,
   "metadata": {},
   "outputs": [],
   "source": [
    "df = pd.DataFrame(cancer_dataset.data, columns = cancer_dataset.feature_names)"
   ]
  },
  {
   "cell_type": "code",
   "execution_count": 4,
   "metadata": {},
   "outputs": [],
   "source": [
    "df['diagnosis'] = cancer_dataset.target"
   ]
  },
  {
   "cell_type": "code",
   "execution_count": 5,
   "metadata": {},
   "outputs": [
    {
     "data": {
      "text/html": [
       "<div>\n",
       "<style scoped>\n",
       "    .dataframe tbody tr th:only-of-type {\n",
       "        vertical-align: middle;\n",
       "    }\n",
       "\n",
       "    .dataframe tbody tr th {\n",
       "        vertical-align: top;\n",
       "    }\n",
       "\n",
       "    .dataframe thead tr th {\n",
       "        text-align: left;\n",
       "    }\n",
       "\n",
       "    .dataframe thead tr:last-of-type th {\n",
       "        text-align: right;\n",
       "    }\n",
       "</style>\n",
       "<table border=\"1\" class=\"dataframe\">\n",
       "  <thead>\n",
       "    <tr>\n",
       "      <th></th>\n",
       "      <th colspan=\"8\" halign=\"left\">mean radius</th>\n",
       "      <th colspan=\"2\" halign=\"left\">mean texture</th>\n",
       "      <th>...</th>\n",
       "      <th colspan=\"2\" halign=\"left\">worst symmetry</th>\n",
       "      <th colspan=\"8\" halign=\"left\">worst fractal dimension</th>\n",
       "    </tr>\n",
       "    <tr>\n",
       "      <th></th>\n",
       "      <th>count</th>\n",
       "      <th>mean</th>\n",
       "      <th>std</th>\n",
       "      <th>min</th>\n",
       "      <th>25%</th>\n",
       "      <th>50%</th>\n",
       "      <th>75%</th>\n",
       "      <th>max</th>\n",
       "      <th>count</th>\n",
       "      <th>mean</th>\n",
       "      <th>...</th>\n",
       "      <th>75%</th>\n",
       "      <th>max</th>\n",
       "      <th>count</th>\n",
       "      <th>mean</th>\n",
       "      <th>std</th>\n",
       "      <th>min</th>\n",
       "      <th>25%</th>\n",
       "      <th>50%</th>\n",
       "      <th>75%</th>\n",
       "      <th>max</th>\n",
       "    </tr>\n",
       "    <tr>\n",
       "      <th>diagnosis</th>\n",
       "      <th></th>\n",
       "      <th></th>\n",
       "      <th></th>\n",
       "      <th></th>\n",
       "      <th></th>\n",
       "      <th></th>\n",
       "      <th></th>\n",
       "      <th></th>\n",
       "      <th></th>\n",
       "      <th></th>\n",
       "      <th></th>\n",
       "      <th></th>\n",
       "      <th></th>\n",
       "      <th></th>\n",
       "      <th></th>\n",
       "      <th></th>\n",
       "      <th></th>\n",
       "      <th></th>\n",
       "      <th></th>\n",
       "      <th></th>\n",
       "      <th></th>\n",
       "    </tr>\n",
       "  </thead>\n",
       "  <tbody>\n",
       "    <tr>\n",
       "      <th>0</th>\n",
       "      <td>212.0</td>\n",
       "      <td>17.462830</td>\n",
       "      <td>3.203971</td>\n",
       "      <td>10.950</td>\n",
       "      <td>15.075</td>\n",
       "      <td>17.325</td>\n",
       "      <td>19.59</td>\n",
       "      <td>28.11</td>\n",
       "      <td>212.0</td>\n",
       "      <td>21.604906</td>\n",
       "      <td>...</td>\n",
       "      <td>0.359225</td>\n",
       "      <td>0.6638</td>\n",
       "      <td>212.0</td>\n",
       "      <td>0.091530</td>\n",
       "      <td>0.021553</td>\n",
       "      <td>0.05504</td>\n",
       "      <td>0.076302</td>\n",
       "      <td>0.08760</td>\n",
       "      <td>0.102625</td>\n",
       "      <td>0.2075</td>\n",
       "    </tr>\n",
       "    <tr>\n",
       "      <th>1</th>\n",
       "      <td>357.0</td>\n",
       "      <td>12.146524</td>\n",
       "      <td>1.780512</td>\n",
       "      <td>6.981</td>\n",
       "      <td>11.080</td>\n",
       "      <td>12.200</td>\n",
       "      <td>13.37</td>\n",
       "      <td>17.85</td>\n",
       "      <td>357.0</td>\n",
       "      <td>17.914762</td>\n",
       "      <td>...</td>\n",
       "      <td>0.298300</td>\n",
       "      <td>0.4228</td>\n",
       "      <td>357.0</td>\n",
       "      <td>0.079442</td>\n",
       "      <td>0.013804</td>\n",
       "      <td>0.05521</td>\n",
       "      <td>0.070090</td>\n",
       "      <td>0.07712</td>\n",
       "      <td>0.085410</td>\n",
       "      <td>0.1486</td>\n",
       "    </tr>\n",
       "  </tbody>\n",
       "</table>\n",
       "<p>2 rows × 240 columns</p>\n",
       "</div>"
      ],
      "text/plain": [
       "          mean radius                                                      \\\n",
       "                count       mean       std     min     25%     50%    75%   \n",
       "diagnosis                                                                   \n",
       "0               212.0  17.462830  3.203971  10.950  15.075  17.325  19.59   \n",
       "1               357.0  12.146524  1.780512   6.981  11.080  12.200  13.37   \n",
       "\n",
       "                 mean texture             ... worst symmetry          \\\n",
       "             max        count       mean  ...            75%     max   \n",
       "diagnosis                                 ...                          \n",
       "0          28.11        212.0  21.604906  ...       0.359225  0.6638   \n",
       "1          17.85        357.0  17.914762  ...       0.298300  0.4228   \n",
       "\n",
       "          worst fractal dimension                                         \\\n",
       "                            count      mean       std      min       25%   \n",
       "diagnosis                                                                  \n",
       "0                           212.0  0.091530  0.021553  0.05504  0.076302   \n",
       "1                           357.0  0.079442  0.013804  0.05521  0.070090   \n",
       "\n",
       "                                      \n",
       "               50%       75%     max  \n",
       "diagnosis                             \n",
       "0          0.08760  0.102625  0.2075  \n",
       "1          0.07712  0.085410  0.1486  \n",
       "\n",
       "[2 rows x 240 columns]"
      ]
     },
     "execution_count": 5,
     "metadata": {},
     "output_type": "execute_result"
    }
   ],
   "source": [
    "df['diagnosis'].value_counts()\n",
    "df.groupby('diagnosis').describe()"
   ]
  },
  {
   "cell_type": "code",
   "execution_count": 6,
   "metadata": {},
   "outputs": [],
   "source": [
    "A = df.drop(columns='diagnosis', axis=1)\n",
    "B = df['diagnosis']"
   ]
  },
  {
   "cell_type": "code",
   "execution_count": 17,
   "metadata": {},
   "outputs": [],
   "source": [
    "#split the data for A and B\n",
    "A_train, A_test, B_train, B_test = train_test_split(A, B, test_size = 0.5, random_state = 3)"
   ]
  },
  {
   "cell_type": "code",
   "execution_count": 18,
   "metadata": {},
   "outputs": [
    {
     "name": "stdout",
     "output_type": "stream",
     "text": [
      "Accuracy on training data:  0.9401408450704225\n",
      "Accuracy on test data:  0.9403508771929825\n"
     ]
    }
   ],
   "source": [
    "# training the model and finding its accuracy\n",
    "model = LogisticRegression()\n",
    "model.fit(A_train, B_train)\n",
    "A_train_predict = model.predict(A_train)\n",
    "trained_accuracy = accuracy_score(B_train,A_train_predict)\n",
    "print(\"Accuracy on training data: \",trained_accuracy)\n",
    "A_test_predict = model.predict(A_test)\n",
    "test_accuracy = accuracy_score(B_test,A_test_predict)\n",
    "print(\"Accuracy on test data: \",test_accuracy)"
   ]
  },
  {
   "cell_type": "code",
   "execution_count": 21,
   "metadata": {},
   "outputs": [
    {
     "name": "stdout",
     "output_type": "stream",
     "text": [
      "The Cancer in Breast is Malignant\n"
     ]
    },
    {
     "name": "stderr",
     "output_type": "stream",
     "text": [
      "/home/harshil/miniconda3/envs/torch/lib/python3.12/site-packages/sklearn/utils/validation.py:2739: UserWarning: X does not have valid feature names, but LogisticRegression was fitted with feature names\n",
      "  warnings.warn(\n"
     ]
    }
   ],
   "source": [
    "# random data test from the dataset\n",
    "input_data = (21.56,22.39,142,1479,0.111,0.1159,0.2439,0.1389,0.1726,0.05623,1.176,1.256,7.673,158.7,0.0103,0.02891,0.05198,0.02454,0.01114,0.004239,25.45,26.4,166.1,2027,0.141,0.2113,0.4107,0.2216,0.206,0.07115)\n",
    "data_as_nparray = np.asarray(input_data)\n",
    "data_reshaped = data_as_nparray.reshape(1,-1)\n",
    "pred = model.predict(data_reshaped)\n",
    "if (pred[0] == 0):\n",
    "    print(\"The Cancer in Breast is Malignant\")\n",
    "else:\n",
    "    print(\"The Cancer in Breast is Benign\")"
   ]
  }
 ],
 "metadata": {
  "kernelspec": {
   "display_name": "torch",
   "language": "python",
   "name": "python3"
  },
  "language_info": {
   "codemirror_mode": {
    "name": "ipython",
    "version": 3
   },
   "file_extension": ".py",
   "mimetype": "text/x-python",
   "name": "python",
   "nbconvert_exporter": "python",
   "pygments_lexer": "ipython3",
   "version": "3.12.8"
  }
 },
 "nbformat": 4,
 "nbformat_minor": 2
}
